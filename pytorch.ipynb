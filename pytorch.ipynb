{
  "nbformat": 4,
  "nbformat_minor": 0,
  "metadata": {
    "colab": {
      "provenance": [],
      "authorship_tag": "ABX9TyPavmPgxs4luFb8yLGWn+ul",
      "include_colab_link": true
    },
    "kernelspec": {
      "name": "python3",
      "display_name": "Python 3"
    },
    "language_info": {
      "name": "python"
    }
  },
  "cells": [
    {
      "cell_type": "markdown",
      "metadata": {
        "id": "view-in-github",
        "colab_type": "text"
      },
      "source": [
        "<a href=\"https://colab.research.google.com/github/firstheo/co-deep-learning-/blob/before_master/pytorch.ipynb\" target=\"_parent\"><img src=\"https://colab.research.google.com/assets/colab-badge.svg\" alt=\"Open In Colab\"/></a>"
      ]
    },
    {
      "cell_type": "markdown",
      "source": [
        "데이터 분할을 위한 폴더 생성"
      ],
      "metadata": {
        "id": "E-aR7Rx7p4zI"
      }
    },
    {
      "cell_type": "code",
      "execution_count": 1,
      "metadata": {
        "id": "r3qfR8BnacCt"
      },
      "outputs": [],
      "source": [
        "import os\n",
        "import shutil"
      ]
    },
    {
      "cell_type": "code",
      "source": [
        "from google.colab import drive\n",
        "drive.mount('/content/drive')"
      ],
      "metadata": {
        "id": "zd5B_aR0nmqw",
        "colab": {
          "base_uri": "https://localhost:8080/"
        },
        "outputId": "84b74914-8fbc-4a34-ef1b-ae0cfd24d2b9"
      },
      "execution_count": 2,
      "outputs": [
        {
          "output_type": "stream",
          "name": "stdout",
          "text": [
            "Mounted at /content/drive\n"
          ]
        }
      ]
    },
    {
      "cell_type": "code",
      "source": [
        "original_dataset_dir = '/content/drive/MyDrive/pytorch/dataset'\n",
        "classes_list = os.listdir(original_dataset_dir)"
      ],
      "metadata": {
        "id": "vQf35-49eWSl"
      },
      "execution_count": 3,
      "outputs": []
    },
    {
      "cell_type": "code",
      "source": [
        "base_dir = '/content/drive/MyDrive/pytorch/splitted'\n",
        "os.mkdir(base_dir)"
      ],
      "metadata": {
        "id": "czqxjEh6lT7W"
      },
      "execution_count": 4,
      "outputs": []
    },
    {
      "cell_type": "code",
      "source": [
        "train_dir = os.path.join(base_dir, 'train')\n",
        "os.mkdir(train_dir)\n",
        "validation_dir = os.path.join(base_dir, 'val')\n",
        "os.mkdir(validation_dir)\n",
        "test_dir = os.path.join(base_dir, 'test')\n",
        "os.mkdir(test_dir)"
      ],
      "metadata": {
        "id": "4Bqrv1PzlT9e"
      },
      "execution_count": 5,
      "outputs": []
    },
    {
      "cell_type": "code",
      "source": [
        "for clss in classes_list:\n",
        "  os.mkdir(os.path.join(train_dir, clss))\n",
        "  os.mkdir(os.path.join(validation_dir, clss))\n",
        "  os.mkdir(os.path.join(test_dir, clss))"
      ],
      "metadata": {
        "id": "lKjBSxdQliJ1"
      },
      "execution_count": 6,
      "outputs": []
    },
    {
      "cell_type": "markdown",
      "source": [
        "데이터 분할과 클래스별 데이터 수 확인"
      ],
      "metadata": {
        "id": "7FyAuqLJp-gN"
      }
    },
    {
      "cell_type": "code",
      "source": [
        "import math\n",
        "\n",
        "for clss in classes_list:\n",
        "  path = os.path.join(original_dataset_dir, clss)\n",
        "  fnames = os.listdir(path)\n",
        "\n",
        "  train_size = math.floor(len(fnames) * 0.6)\n",
        "  validation_size = math.floor(len(fnames) * 0.2)\n",
        "  test_size = math.floor(len(fnames) * 0.2)\n",
        "\n",
        "  train_fnames = fnames[:train_size]\n",
        "  print('Train size(',clss,'): ', len(train_fnames))\n",
        "  for fname in train_fnames:\n",
        "    src = os.path.join(path, fname)\n",
        "    dst = os.path.join(os.path.join(train_dir, clss), fname)\n",
        "    shutil.copyfile(src, dst)\n",
        "\n",
        "  validation_fnames = fnames[train_size:(validation_size + train_size)]\n",
        "  print('Validation size(',clss,'): ', len(validation_fnames))\n",
        "  for fname in validation_fnames:\n",
        "    src = os.path.join(path, fname)\n",
        "    dst = os.path.join(os.path.join(validation_dir, clss), fname)\n",
        "    shutil.copyfile(src, dst)\n",
        "\n",
        "  test_fnames = fnames[(train_size + validation_size):(validation_size + train_size + test_size)]\n",
        "\n",
        "  print('Test size(',clss,'): ', len(test_fnames))\n",
        "  for fname in test_fnames:\n",
        "    src = os.path.join(path, fname)\n",
        "    dst = os.path.join(os.path.join(test_dir, clss), fname)\n",
        "    shutil.copyfile(src, dst)\n",
        "\n"
      ],
      "metadata": {
        "id": "JBtWIHv-liMR",
        "colab": {
          "base_uri": "https://localhost:8080/"
        },
        "outputId": "8977dcea-7d2b-4ebd-d20a-e764aa8d8df6"
      },
      "execution_count": 7,
      "outputs": [
        {
          "output_type": "stream",
          "name": "stdout",
          "text": [
            "Train size( normal_up ):  44\n",
            "Validation size( normal_up ):  14\n",
            "Test size( normal_up ):  14\n",
            "Train size( abnormal_up ):  30\n",
            "Validation size( abnormal_up ):  10\n",
            "Test size( abnormal_up ):  10\n",
            "Train size( normal_down ):  29\n",
            "Validation size( normal_down ):  9\n",
            "Test size( normal_down ):  9\n",
            "Train size( abnormal_down ):  21\n",
            "Validation size( abnormal_down ):  7\n",
            "Test size( abnormal_down ):  7\n"
          ]
        }
      ]
    },
    {
      "cell_type": "markdown",
      "source": [
        "베이스라인 모델학습을 위한 준비"
      ],
      "metadata": {
        "id": "hdEkW0f5um1K"
      }
    },
    {
      "cell_type": "code",
      "source": [
        "import torch\n",
        "\n",
        "USE_CUDA = torch.cuda.is_available()\n",
        "DEVICE = torch.device('cuda' if USE_CUDA else 'cpu')\n",
        "\n",
        "BATCH_SIZE = 256\n",
        "EPOCH = 30\n",
        "import torchvision.transforms as transforms\n",
        "from torchvision.datasets import ImageFolder\n",
        "\n",
        "transform_base = transforms.Compose([transforms.Resize((64,64)), transforms.ToTensor()])\n",
        "\n",
        "train_dataset = ImageFolder(root='/content/drive/MyDrive/pytorch/splitted/train', transform=transform_base)\n",
        "val_dataset = ImageFolder(root='/content/drive/MyDrive/pytorch/splitted/val', transform=transform_base)\n",
        "\n",
        "from torch.utils.data import DataLoader\n",
        "train_loader = torch.utils.data.DataLoader(train_dataset, batch_size=BATCH_SIZE, shuffle=True, num_workers=4)\n",
        "val_loader = torch.utils.data.DataLoader(val_dataset, batch_size=BATCH_SIZE, shuffle=True, num_workers=4)\n",
        "\n"
      ],
      "metadata": {
        "id": "RML5wVVjliOp",
        "colab": {
          "base_uri": "https://localhost:8080/"
        },
        "outputId": "a3ad3957-e20d-402f-870c-f3811eb17e31"
      },
      "execution_count": 8,
      "outputs": [
        {
          "output_type": "stream",
          "name": "stderr",
          "text": [
            "/usr/local/lib/python3.10/dist-packages/torch/utils/data/dataloader.py:560: UserWarning: This DataLoader will create 4 worker processes in total. Our suggested max number of worker in current system is 2, which is smaller than what this DataLoader is going to create. Please be aware that excessive worker creation might get DataLoader running slow or even freeze, lower the worker number to avoid potential slowness/freeze if necessary.\n",
            "  warnings.warn(_create_warning_msg(\n"
          ]
        }
      ]
    },
    {
      "cell_type": "markdown",
      "source": [
        "베이스라인 모델 설계\n",
        "\n"
      ],
      "metadata": {
        "id": "y6FFzPtYx8Fd"
      }
    },
    {
      "cell_type": "code",
      "source": [
        "import torch.nn as nn\n",
        "import torch.nn.functional as F\n",
        "import torch.optim as optim\n",
        "\n",
        "class Net(nn.Module):\n",
        "  def __init__(self):\n",
        "    super(Net, self).__init__()\n",
        "\n",
        "    self.conv1 = nn.Conv2d(3, 32, 3, padding=1)\n",
        "    self.pool = nn.MaxPool2d(2, 2)\n",
        "    self.conv2 = nn.Conv2d(32, 64, 3, padding=1)\n",
        "    self.conv3 = nn.Conv2d(64, 64, 3, padding=1)\n",
        "\n",
        "    self.fc1 = nn.Linear(4096, 512)\n",
        "    self.fc2 = nn.Linear(512, 33)\n",
        "  def forward(self, x):\n",
        "    x = self.conv1(x)\n",
        "    x = F.relu(x)\n",
        "    x = self.pool(x)\n",
        "    x = F.dropout(x, p=0.25, training=self.training)\n",
        "\n",
        "    x = self.conv2(x)\n",
        "    x = F.relu(x)\n",
        "    x = self.pool(x)\n",
        "    x = F.dropout(x, p=0.25, training=self.training)\n",
        "\n",
        "    x = self.conv3(x)\n",
        "    x = F.relu(x)\n",
        "    x = self.pool(x)\n",
        "    x = F.dropout(x, p=0.25, training=self.training)\n",
        "\n",
        "    x = x.view(-1, 4096)\n",
        "    x = self.fc1(x)\n",
        "    x = F.relu(x)\n",
        "    x = F.dropout(x, p=0.5, training=self.training)\n",
        "    x = self.fc2(x)\n",
        "\n",
        "    return F.log_softmax(x, dim=1)\n",
        "\n",
        "model_base = Net().to(DEVICE)\n",
        "optimizer = optim.Adam(model_base.parameters(), lr=0.001)\n",
        "\n"
      ],
      "metadata": {
        "id": "3_DR3HOPumCg"
      },
      "execution_count": 9,
      "outputs": []
    },
    {
      "cell_type": "markdown",
      "source": [
        "모델 학습을 위한 함수"
      ],
      "metadata": {
        "id": "ea8GmJIV17Tx"
      }
    },
    {
      "cell_type": "code",
      "source": [
        "def train(model, train_loader, optimizer):\n",
        "  model.train()\n",
        "  for batch_idx, (data, target) in enumerate(train_loader):\n",
        "    data, target = data.to(DEVICE), target.to(DEVICE)\n",
        "    optimizer.zero_grad()\n",
        "    output = model(data)\n",
        "    loss = F.cross_entropy(output, target)\n",
        "    loss.backward()\n",
        "    optimizer.step()"
      ],
      "metadata": {
        "id": "WoYXI3ykumE3"
      },
      "execution_count": 10,
      "outputs": []
    },
    {
      "cell_type": "markdown",
      "source": [
        "모델 평가를 위한 함수"
      ],
      "metadata": {
        "id": "EaHBWOmL6nnO"
      }
    },
    {
      "cell_type": "code",
      "source": [
        "def evaluate(model, test_loader):\n",
        "  model.eval()\n",
        "  test_loss = 0\n",
        "  correct = 0\n",
        "  with torch.no_grad():\n",
        "    for data, target in test_loader:\n",
        "      data, target = data.to(DEVICE), target.to(DEVICE)\n",
        "      output = model(data)\n",
        "\n",
        "      test_loss += F.cross_entropy(output, target, reduction='sum').item()\n",
        "      pred = output.max(1, keepdim=True)[1]\n",
        "      correct += pred.eq(target.view_as(pred)).sum().item()\n",
        "\n",
        "  test_loss /= len(test_loader.dataset)\n",
        "  test_accuracy = 100. * correct / len(test_loader.dataset)\n",
        "  return test_loss, test_accuracy"
      ],
      "metadata": {
        "id": "55yvPFz66QYS"
      },
      "execution_count": 11,
      "outputs": []
    },
    {
      "cell_type": "markdown",
      "source": [
        "모델 학습 실행하기"
      ],
      "metadata": {
        "id": "enZybAzu7Wyp"
      }
    },
    {
      "cell_type": "code",
      "source": [
        "import time\n",
        "import copy\n",
        "\n",
        "def train_baseline(model, train_loader, val_loader, optimizer, num_epochs = 30):\n",
        "  best_acc = 0.0\n",
        "  best_model_wts = copy.deepcopy(model.state_dict())\n",
        "\n",
        "  for epoch in range(1, num_epochs + 1):\n",
        "    since = time.time()\n",
        "    train(model, train_loader, optimizer)\n",
        "    train_loss, train_acc = evaluate(model, train_loader)\n",
        "    val_loss, val_acc = evaluate(model, val_loader)\n",
        "\n",
        "    if val_acc > best_acc:\n",
        "      best_acc = val_acc\n",
        "      best_model_wts = copy.deepcopy(model.state_dict())\n",
        "\n",
        "    time_elapsed = time.time() - since\n",
        "    print('-------------- epoch {} ----------------'.format(epoch))\n",
        "\n",
        "    print('train Loss: {:.4f}, Accuracy: {:.2f}%' .format(train_loss, train_acc))\n",
        "\n",
        "    print('val Loss: {:.4f}, Accuracy: {:.2f}%' .format(val_loss, val_acc))\n",
        "\n",
        "    print('Completed in {:.0f}m {:.0f}s' .format(time_elapsed // 60, time_elapsed % 60))\n",
        "\n",
        "  model.load_state_dict(best_model_wts)\n",
        "  return model\n",
        "\n",
        "base = train_baseline(model_base, train_loader, val_loader, optimizer, EPOCH)\n",
        "\n",
        "torch.save(base,'baseline.pt')\n",
        "\n"
      ],
      "metadata": {
        "colab": {
          "base_uri": "https://localhost:8080/"
        },
        "id": "9xAp75Ly6Qb8",
        "outputId": "5d3a6af4-efb4-4288-a4be-94021c916597"
      },
      "execution_count": 12,
      "outputs": [
        {
          "output_type": "stream",
          "name": "stdout",
          "text": [
            "-------------- epoch 1 ----------------\n",
            "train Loss: 3.0990, Accuracy: 41.13%\n",
            "val Loss: 3.1021, Accuracy: 37.50%\n",
            "Completed in 0m 9s\n",
            "-------------- epoch 2 ----------------\n",
            "train Loss: 2.1741, Accuracy: 40.32%\n",
            "val Loss: 2.1823, Accuracy: 42.50%\n",
            "Completed in 0m 7s\n",
            "-------------- epoch 3 ----------------\n",
            "train Loss: 1.1587, Accuracy: 56.45%\n",
            "val Loss: 1.1785, Accuracy: 55.00%\n",
            "Completed in 0m 6s\n",
            "-------------- epoch 4 ----------------\n",
            "train Loss: 0.9582, Accuracy: 45.16%\n",
            "val Loss: 1.0033, Accuracy: 45.00%\n",
            "Completed in 0m 7s\n",
            "-------------- epoch 5 ----------------\n",
            "train Loss: 0.7317, Accuracy: 63.71%\n",
            "val Loss: 0.7621, Accuracy: 57.50%\n",
            "Completed in 0m 6s\n",
            "-------------- epoch 6 ----------------\n",
            "train Loss: 0.5881, Accuracy: 67.74%\n",
            "val Loss: 0.6454, Accuracy: 65.00%\n",
            "Completed in 0m 7s\n",
            "-------------- epoch 7 ----------------\n",
            "train Loss: 0.5187, Accuracy: 75.81%\n",
            "val Loss: 0.6574, Accuracy: 60.00%\n",
            "Completed in 0m 6s\n",
            "-------------- epoch 8 ----------------\n",
            "train Loss: 0.4518, Accuracy: 96.77%\n",
            "val Loss: 0.5667, Accuracy: 85.00%\n",
            "Completed in 0m 7s\n",
            "-------------- epoch 9 ----------------\n",
            "train Loss: 0.4354, Accuracy: 81.45%\n",
            "val Loss: 0.5371, Accuracy: 70.00%\n",
            "Completed in 0m 6s\n",
            "-------------- epoch 10 ----------------\n",
            "train Loss: 0.3785, Accuracy: 90.32%\n",
            "val Loss: 0.5394, Accuracy: 77.50%\n",
            "Completed in 0m 6s\n",
            "-------------- epoch 11 ----------------\n",
            "train Loss: 0.3623, Accuracy: 95.97%\n",
            "val Loss: 0.5623, Accuracy: 77.50%\n",
            "Completed in 0m 7s\n",
            "-------------- epoch 12 ----------------\n",
            "train Loss: 0.3271, Accuracy: 95.97%\n",
            "val Loss: 0.5392, Accuracy: 85.00%\n",
            "Completed in 0m 6s\n",
            "-------------- epoch 13 ----------------\n",
            "train Loss: 0.3066, Accuracy: 83.06%\n",
            "val Loss: 0.5074, Accuracy: 67.50%\n",
            "Completed in 0m 8s\n",
            "-------------- epoch 14 ----------------\n",
            "train Loss: 0.2819, Accuracy: 85.48%\n",
            "val Loss: 0.5240, Accuracy: 70.00%\n",
            "Completed in 0m 6s\n",
            "-------------- epoch 15 ----------------\n",
            "train Loss: 0.2580, Accuracy: 95.97%\n",
            "val Loss: 0.5246, Accuracy: 80.00%\n",
            "Completed in 0m 7s\n",
            "-------------- epoch 16 ----------------\n",
            "train Loss: 0.2563, Accuracy: 95.97%\n",
            "val Loss: 0.5339, Accuracy: 77.50%\n",
            "Completed in 0m 6s\n",
            "-------------- epoch 17 ----------------\n",
            "train Loss: 0.2425, Accuracy: 94.35%\n",
            "val Loss: 0.5442, Accuracy: 77.50%\n",
            "Completed in 0m 7s\n",
            "-------------- epoch 18 ----------------\n",
            "train Loss: 0.2067, Accuracy: 97.58%\n",
            "val Loss: 0.5279, Accuracy: 80.00%\n",
            "Completed in 0m 6s\n",
            "-------------- epoch 19 ----------------\n",
            "train Loss: 0.1772, Accuracy: 99.19%\n",
            "val Loss: 0.5230, Accuracy: 80.00%\n",
            "Completed in 0m 7s\n",
            "-------------- epoch 20 ----------------\n",
            "train Loss: 0.1583, Accuracy: 97.58%\n",
            "val Loss: 0.5522, Accuracy: 75.00%\n",
            "Completed in 0m 6s\n",
            "-------------- epoch 21 ----------------\n",
            "train Loss: 0.1290, Accuracy: 100.00%\n",
            "val Loss: 0.5730, Accuracy: 77.50%\n",
            "Completed in 0m 6s\n",
            "-------------- epoch 22 ----------------\n",
            "train Loss: 0.1126, Accuracy: 100.00%\n",
            "val Loss: 0.5899, Accuracy: 77.50%\n",
            "Completed in 0m 6s\n",
            "-------------- epoch 23 ----------------\n",
            "train Loss: 0.0953, Accuracy: 100.00%\n",
            "val Loss: 0.6048, Accuracy: 77.50%\n",
            "Completed in 0m 6s\n",
            "-------------- epoch 24 ----------------\n",
            "train Loss: 0.0717, Accuracy: 100.00%\n",
            "val Loss: 0.5946, Accuracy: 80.00%\n",
            "Completed in 0m 7s\n",
            "-------------- epoch 25 ----------------\n",
            "train Loss: 0.0819, Accuracy: 99.19%\n",
            "val Loss: 0.6187, Accuracy: 77.50%\n",
            "Completed in 0m 6s\n",
            "-------------- epoch 26 ----------------\n",
            "train Loss: 0.0466, Accuracy: 100.00%\n",
            "val Loss: 0.5861, Accuracy: 82.50%\n",
            "Completed in 0m 7s\n",
            "-------------- epoch 27 ----------------\n",
            "train Loss: 0.0319, Accuracy: 100.00%\n",
            "val Loss: 0.5776, Accuracy: 82.50%\n",
            "Completed in 0m 6s\n",
            "-------------- epoch 28 ----------------\n",
            "train Loss: 0.0320, Accuracy: 100.00%\n",
            "val Loss: 0.5461, Accuracy: 85.00%\n",
            "Completed in 0m 7s\n",
            "-------------- epoch 29 ----------------\n",
            "train Loss: 0.0173, Accuracy: 100.00%\n",
            "val Loss: 0.4416, Accuracy: 85.00%\n",
            "Completed in 0m 6s\n",
            "-------------- epoch 30 ----------------\n",
            "train Loss: 0.0119, Accuracy: 100.00%\n",
            "val Loss: 0.3560, Accuracy: 85.00%\n",
            "Completed in 0m 7s\n"
          ]
        }
      ]
    },
    {
      "cell_type": "markdown",
      "source": [
        "Transfer Learning을 위한 준비"
      ],
      "metadata": {
        "id": "CMTk-GeY-Zmf"
      }
    },
    {
      "cell_type": "code",
      "source": [
        "data_transforms = {\n",
        "    'train': transforms.Compose([\n",
        "        transforms.Resize([64,64]),\n",
        "        transforms.RandomHorizontalFlip(),\n",
        "        transforms.RandomVerticalFlip(),\n",
        "        transforms.RandomCrop(52),\n",
        "        transforms.ToTensor(),\n",
        "        transforms.Normalize([0.485, 0.456, 0.406], [0.229, 0.224, 0.225])\n",
        "    ]),\n",
        "    'val': transforms.Compose([\n",
        "        transforms.Resize([64,64]),\n",
        "        transforms.RandomCrop(52),\n",
        "        transforms.ToTensor(),\n",
        "        transforms.Normalize([0.485, 0.456, 0.406], [0.229, 0.224, 0.225])\n",
        "    ])\n",
        "}\n",
        "data_dir = '/content/drive/MyDrive/pytorch/splitted'\n",
        "image_datasets = {x: ImageFolder(root=os.path.join(data_dir, x), transform=data_transforms[x]) for x in ['train', 'val']}\n",
        "dataloaders = {x: torch.utils.data.DataLoader(image_datasets[x], batch_size=BATCH_SIZE, shuffle=True, num_workers=4) for x in ['train', 'val']}\n",
        "dataset_sizes = {x: len(image_datasets[x]) for x in ['train', 'val']}\n",
        "\n",
        "class_names = image_datasets['train'].classes\n"
      ],
      "metadata": {
        "id": "7ZMtRI2n6Qhb"
      },
      "execution_count": 13,
      "outputs": []
    },
    {
      "cell_type": "markdown",
      "source": [
        "Pre-Trained Model 불러오기"
      ],
      "metadata": {
        "id": "MyVsRjIFAjZO"
      }
    },
    {
      "cell_type": "code",
      "source": [
        "from torchvision import models\n",
        "\n",
        "resnet = models.resnet50(pretrained=True)\n",
        "num_ftrs = resnet.fc.in_features\n",
        "resnet.fc = nn.Linear(num_ftrs, 33)\n",
        "resnet = resnet.to(DEVICE)\n",
        "\n",
        "criterion = nn.CrossEntropyLoss()\n",
        "\n",
        "optimizer_ft = optim.Adam(filter(lambda p: p.requires_grad, resnet.parameters()), lr=0.001)\n",
        "\n",
        "from torch.optim import lr_scheduler\n",
        "\n",
        "exp_lr_scheduler = lr_scheduler.StepLR(optimizer_ft, step_size=7, gamma=0.1)"
      ],
      "metadata": {
        "id": "5mKThJJTumHa",
        "colab": {
          "base_uri": "https://localhost:8080/"
        },
        "outputId": "26123833-2187-4296-b169-11fe27ea4de1"
      },
      "execution_count": 14,
      "outputs": [
        {
          "output_type": "stream",
          "name": "stderr",
          "text": [
            "/usr/local/lib/python3.10/dist-packages/torchvision/models/_utils.py:208: UserWarning: The parameter 'pretrained' is deprecated since 0.13 and may be removed in the future, please use 'weights' instead.\n",
            "  warnings.warn(\n",
            "/usr/local/lib/python3.10/dist-packages/torchvision/models/_utils.py:223: UserWarning: Arguments other than a weight enum or `None` for 'weights' are deprecated since 0.13 and may be removed in the future. The current behavior is equivalent to passing `weights=ResNet50_Weights.IMAGENET1K_V1`. You can also use `weights=ResNet50_Weights.DEFAULT` to get the most up-to-date weights.\n",
            "  warnings.warn(msg)\n",
            "Downloading: \"https://download.pytorch.org/models/resnet50-0676ba61.pth\" to /root/.cache/torch/hub/checkpoints/resnet50-0676ba61.pth\n",
            "100%|██████████| 97.8M/97.8M [00:00<00:00, 279MB/s]\n"
          ]
        }
      ]
    },
    {
      "cell_type": "markdown",
      "source": [
        "Pre-Trained Model의 일부 Layer Freeze하기"
      ],
      "metadata": {
        "id": "_F8OF-HOA9rP"
      }
    },
    {
      "cell_type": "code",
      "source": [
        "ct = 0\n",
        "for child in resnet.children():\n",
        "  ct += 1\n",
        "  if ct < 6:\n",
        "    for param in child.parameters():\n",
        "      param.requires_grad = False"
      ],
      "metadata": {
        "id": "jASqst6vAm9J"
      },
      "execution_count": 15,
      "outputs": []
    },
    {
      "cell_type": "markdown",
      "source": [
        "Transfer Learning 모델 학습과 검증을 위한 함수"
      ],
      "metadata": {
        "id": "7eVu8Te5Bafv"
      }
    },
    {
      "cell_type": "code",
      "source": [
        "def train_resnet(model, criterion, optimizer, scheduler, num_epochs=25):\n",
        "  best_model_wts = copy.deepcopy(model.state_dict())\n",
        "  best_acc = 0.0\n",
        "\n",
        "  for epoch in range(num_epochs):\n",
        "    print('-------------epoch {}-------------'.format(epoch+1))\n",
        "    since = time.time()\n",
        "\n",
        "    for phase in ['train', 'val']:\n",
        "      if phase == 'train':\n",
        "        model.train()\n",
        "      else:\n",
        "        model.eval()\n",
        "\n",
        "      running_loss = 0.0\n",
        "      running_corrects = 0\n",
        "\n",
        "      for inputs, labels in dataloaders[phase]:\n",
        "        inputs = inputs.to(DEVICE)\n",
        "        labels = labels.to(DEVICE)\n",
        "\n",
        "        optimizer.zero_grad()\n",
        "\n",
        "        with torch.set_grad_enabled(phase == 'train'):\n",
        "          outputs = model(inputs)\n",
        "          _, preds = torch.max(outputs, 1)\n",
        "          loss = criterion(outputs, labels)\n",
        "\n",
        "          if phase == 'train':\n",
        "            loss.backward()\n",
        "            optimizer.step()\n",
        "\n",
        "        running_loss += loss.item() * inputs.size(0)\n",
        "        running_corrects += torch.sum(preds == labels.data)\n",
        "      if phase == 'train':\n",
        "        scheduler.step()\n",
        "        l_r = [x['lr'] for x in optimizer_ft.param_groups]\n",
        "        print('learning rate: ',l_r)\n",
        "\n",
        "      epoch_loss = running_loss/dataset_sizes[phase]\n",
        "      epoch_acc = running_corrects.double()/dataset_sizes[phase]\n",
        "\n",
        "      print('{} Loss: {:.4f} Acc: {:.4f}' .format(phase, epoch_loss, epoch_acc))\n",
        "\n",
        "      if phase == 'val' and epoch_acc > best_acc:\n",
        "        best_acc = epoch_acc\n",
        "        best_model_wts = copy.deepcopy(model.state_dict())\n",
        "    time_elapsed = time.time() - since\n",
        "    print('Completed in {:.0f}m {:.0f}s' .format(time_elapsed // 60, time_elapsed % 60))\n",
        "  print('Best val Acc: {:4f}'.format(best_acc))\n",
        "\n",
        "  model.load_state_dict(best_model_wts)\n",
        "\n",
        "  return model\n",
        "\n"
      ],
      "metadata": {
        "id": "VGVKEif_umKI"
      },
      "execution_count": 16,
      "outputs": []
    },
    {
      "cell_type": "markdown",
      "source": [
        "모델 학습 실행하기"
      ],
      "metadata": {
        "id": "3VfE4c8JDbBS"
      }
    },
    {
      "cell_type": "code",
      "source": [
        "model_resnet50 = train_resnet(resnet, criterion, optimizer_ft, exp_lr_scheduler, num_epochs=EPOCH)\n",
        "\n",
        "torch.save(model_resnet50, 'resnet50.pt')"
      ],
      "metadata": {
        "colab": {
          "base_uri": "https://localhost:8080/"
        },
        "id": "9duDEYkLDaVy",
        "outputId": "f8858cf4-8f1f-4b7e-9620-c9ea2166474a"
      },
      "execution_count": 17,
      "outputs": [
        {
          "output_type": "stream",
          "name": "stdout",
          "text": [
            "-------------epoch 1-------------\n",
            "learning rate:  [0.001]\n",
            "train Loss: 3.6705 Acc: 0.0161\n",
            "val Loss: 1.3231 Acc: 0.6750\n",
            "Completed in 0m 11s\n",
            "-------------epoch 2-------------\n",
            "learning rate:  [0.001]\n",
            "train Loss: 1.0902 Acc: 0.7258\n",
            "val Loss: 1.1976 Acc: 0.7500\n",
            "Completed in 0m 11s\n",
            "-------------epoch 3-------------\n",
            "learning rate:  [0.001]\n",
            "train Loss: 0.4114 Acc: 0.8952\n",
            "val Loss: 2.1793 Acc: 0.7000\n",
            "Completed in 0m 21s\n",
            "-------------epoch 4-------------\n",
            "learning rate:  [0.001]\n",
            "train Loss: 0.3781 Acc: 0.8952\n",
            "val Loss: 3.5386 Acc: 0.7750\n",
            "Completed in 0m 12s\n",
            "-------------epoch 5-------------\n",
            "learning rate:  [0.001]\n",
            "train Loss: 0.1522 Acc: 0.9516\n",
            "val Loss: 2.0650 Acc: 0.8250\n",
            "Completed in 0m 11s\n",
            "-------------epoch 6-------------\n",
            "learning rate:  [0.001]\n",
            "train Loss: 0.0173 Acc: 1.0000\n",
            "val Loss: 1.1346 Acc: 0.8500\n",
            "Completed in 0m 11s\n",
            "-------------epoch 7-------------\n",
            "learning rate:  [0.0001]\n",
            "train Loss: 0.0232 Acc: 1.0000\n",
            "val Loss: 0.8375 Acc: 0.8500\n",
            "Completed in 0m 10s\n",
            "-------------epoch 8-------------\n",
            "learning rate:  [0.0001]\n",
            "train Loss: 0.0112 Acc: 1.0000\n",
            "val Loss: 0.2582 Acc: 0.9750\n",
            "Completed in 0m 11s\n",
            "-------------epoch 9-------------\n",
            "learning rate:  [0.0001]\n",
            "train Loss: 0.0241 Acc: 0.9839\n",
            "val Loss: 0.1347 Acc: 0.9500\n",
            "Completed in 0m 11s\n",
            "-------------epoch 10-------------\n",
            "learning rate:  [0.0001]\n",
            "train Loss: 0.0060 Acc: 1.0000\n",
            "val Loss: 0.0067 Acc: 1.0000\n",
            "Completed in 0m 10s\n",
            "-------------epoch 11-------------\n",
            "learning rate:  [0.0001]\n",
            "train Loss: 0.0063 Acc: 1.0000\n",
            "val Loss: 0.0006 Acc: 1.0000\n",
            "Completed in 0m 10s\n",
            "-------------epoch 12-------------\n",
            "learning rate:  [0.0001]\n",
            "train Loss: 0.0050 Acc: 1.0000\n",
            "val Loss: 0.0001 Acc: 1.0000\n",
            "Completed in 0m 12s\n",
            "-------------epoch 13-------------\n",
            "learning rate:  [0.0001]\n",
            "train Loss: 0.0076 Acc: 1.0000\n",
            "val Loss: 0.0002 Acc: 1.0000\n",
            "Completed in 0m 11s\n",
            "-------------epoch 14-------------\n",
            "learning rate:  [1e-05]\n",
            "train Loss: 0.0121 Acc: 0.9919\n",
            "val Loss: 0.0000 Acc: 1.0000\n",
            "Completed in 0m 10s\n",
            "-------------epoch 15-------------\n",
            "learning rate:  [1e-05]\n",
            "train Loss: 0.0026 Acc: 1.0000\n",
            "val Loss: 0.0001 Acc: 1.0000\n",
            "Completed in 0m 10s\n",
            "-------------epoch 16-------------\n",
            "learning rate:  [1e-05]\n",
            "train Loss: 0.0016 Acc: 1.0000\n",
            "val Loss: 0.0001 Acc: 1.0000\n",
            "Completed in 0m 11s\n",
            "-------------epoch 17-------------\n",
            "learning rate:  [1e-05]\n",
            "train Loss: 0.0013 Acc: 1.0000\n",
            "val Loss: 0.0002 Acc: 1.0000\n",
            "Completed in 0m 11s\n",
            "-------------epoch 18-------------\n",
            "learning rate:  [1e-05]\n",
            "train Loss: 0.0017 Acc: 1.0000\n",
            "val Loss: 0.0001 Acc: 1.0000\n",
            "Completed in 0m 10s\n",
            "-------------epoch 19-------------\n",
            "learning rate:  [1e-05]\n",
            "train Loss: 0.0022 Acc: 1.0000\n",
            "val Loss: 0.0001 Acc: 1.0000\n",
            "Completed in 0m 10s\n",
            "-------------epoch 20-------------\n",
            "learning rate:  [1e-05]\n",
            "train Loss: 0.0016 Acc: 1.0000\n",
            "val Loss: 0.0002 Acc: 1.0000\n",
            "Completed in 0m 11s\n",
            "-------------epoch 21-------------\n",
            "learning rate:  [1.0000000000000002e-06]\n",
            "train Loss: 0.0022 Acc: 1.0000\n",
            "val Loss: 0.0003 Acc: 1.0000\n",
            "Completed in 0m 11s\n",
            "-------------epoch 22-------------\n",
            "learning rate:  [1.0000000000000002e-06]\n",
            "train Loss: 0.0024 Acc: 1.0000\n",
            "val Loss: 0.0002 Acc: 1.0000\n",
            "Completed in 0m 10s\n",
            "-------------epoch 23-------------\n",
            "learning rate:  [1.0000000000000002e-06]\n",
            "train Loss: 0.0023 Acc: 1.0000\n",
            "val Loss: 0.0003 Acc: 1.0000\n",
            "Completed in 0m 11s\n",
            "-------------epoch 24-------------\n",
            "learning rate:  [1.0000000000000002e-06]\n",
            "train Loss: 0.0022 Acc: 1.0000\n",
            "val Loss: 0.0003 Acc: 1.0000\n",
            "Completed in 0m 11s\n",
            "-------------epoch 25-------------\n",
            "learning rate:  [1.0000000000000002e-06]\n",
            "train Loss: 0.0015 Acc: 1.0000\n",
            "val Loss: 0.0004 Acc: 1.0000\n",
            "Completed in 0m 11s\n",
            "-------------epoch 26-------------\n",
            "learning rate:  [1.0000000000000002e-06]\n",
            "train Loss: 0.0016 Acc: 1.0000\n",
            "val Loss: 0.0005 Acc: 1.0000\n",
            "Completed in 0m 10s\n",
            "-------------epoch 27-------------\n",
            "learning rate:  [1.0000000000000002e-06]\n",
            "train Loss: 0.0015 Acc: 1.0000\n",
            "val Loss: 0.0004 Acc: 1.0000\n",
            "Completed in 0m 11s\n",
            "-------------epoch 28-------------\n",
            "learning rate:  [1.0000000000000002e-07]\n",
            "train Loss: 0.0015 Acc: 1.0000\n",
            "val Loss: 0.0004 Acc: 1.0000\n",
            "Completed in 0m 11s\n",
            "-------------epoch 29-------------\n",
            "learning rate:  [1.0000000000000002e-07]\n",
            "train Loss: 0.0020 Acc: 1.0000\n",
            "val Loss: 0.0005 Acc: 1.0000\n",
            "Completed in 0m 11s\n",
            "-------------epoch 30-------------\n",
            "learning rate:  [1.0000000000000002e-07]\n",
            "train Loss: 0.0020 Acc: 1.0000\n",
            "val Loss: 0.0006 Acc: 1.0000\n",
            "Completed in 0m 10s\n",
            "Best val Acc: 1.000000\n"
          ]
        }
      ]
    },
    {
      "cell_type": "markdown",
      "source": [
        "베이스라인 모델 평가를 위한 전처리"
      ],
      "metadata": {
        "id": "pFzN2V4wEC6G"
      }
    },
    {
      "cell_type": "code",
      "source": [
        "transform_base = transforms.Compose([transforms.Resize([64,64]), transforms.ToTensor()])\n",
        "\n",
        "test_base = ImageFolder(root='/content/drive/MyDrive/pytorch/splitted/test', transform=transform_base)\n",
        "\n",
        "test_loader_base = torch.utils.data.DataLoader(test_base, batch_size=BATCH_SIZE, shuffle=True, num_workers=4)"
      ],
      "metadata": {
        "id": "yWflbkNvDaYU"
      },
      "execution_count": 18,
      "outputs": []
    },
    {
      "cell_type": "markdown",
      "source": [
        "Transfer Learning모델 평가를 위한 전처리"
      ],
      "metadata": {
        "id": "qnT5BxIcEHGH"
      }
    },
    {
      "cell_type": "code",
      "source": [
        "transform_resNet = transforms.Compose([\n",
        "    transforms.Resize([64,64]),\n",
        "    transforms.RandomCrop(52),\n",
        "    transforms.ToTensor(),\n",
        "    transforms.Normalize([0.485, 0.456, 0.406], [0.229, 0.224, 0.225])\n",
        "  ])\n",
        "\n",
        "test_resNet = ImageFolder(root='/content/drive/MyDrive/pytorch/splitted/test', transform=transform_resNet)\n",
        "\n",
        "test_loader_resNet = torch.utils.data.DataLoader(test_resNet, batch_size=BATCH_SIZE, shuffle=True, num_workers=4)"
      ],
      "metadata": {
        "id": "5aj8rsNYDaa0"
      },
      "execution_count": 19,
      "outputs": []
    },
    {
      "cell_type": "markdown",
      "source": [
        "베이스라인 모델 성능 평가하기"
      ],
      "metadata": {
        "id": "SXp4PALTEhbp"
      }
    },
    {
      "cell_type": "code",
      "source": [
        "baseline=torch.load('baseline.pt')\n",
        "baseline.eval()\n",
        "test_loss, test_accuracy = evaluate(baseline, test_loader_base)\n",
        "\n",
        "print('baseline test acc: ', test_accuracy)"
      ],
      "metadata": {
        "colab": {
          "base_uri": "https://localhost:8080/"
        },
        "id": "HhBoS-MoEk_a",
        "outputId": "a4533799-2517-4d3a-b91f-af29acead332"
      },
      "execution_count": 20,
      "outputs": [
        {
          "output_type": "stream",
          "name": "stdout",
          "text": [
            "baseline test acc:  87.5\n"
          ]
        }
      ]
    },
    {
      "cell_type": "markdown",
      "source": [
        "Transfer Learning 모델 성능 평가하기"
      ],
      "metadata": {
        "id": "md0D2gypEvSv"
      }
    },
    {
      "cell_type": "code",
      "source": [
        "resnet50=torch.load('resnet50.pt')\n",
        "resnet50.eval()\n",
        "test_loss, test_accuracy = evaluate(resnet50, test_loader_resNet)\n",
        "\n",
        "print('ResNet test acc: ', test_accuracy)"
      ],
      "metadata": {
        "colab": {
          "base_uri": "https://localhost:8080/"
        },
        "id": "dYYf5cpcDad5",
        "outputId": "d0d6653e-5af9-4b2c-e8ac-820655d94ab0"
      },
      "execution_count": 21,
      "outputs": [
        {
          "output_type": "stream",
          "name": "stdout",
          "text": [
            "ResNet test acc:  100.0\n"
          ]
        }
      ]
    },
    {
      "cell_type": "code",
      "source": [
        "from PIL import Image\n",
        "import glob\n",
        "\n",
        "# 이미지 경로를 입력받아 가장 비슷한 클래스를 출력하는 함수\n",
        "def predict_image_class(image_path, model):\n",
        "    transform = transforms.Compose([\n",
        "        transforms.Resize([64, 64]),\n",
        "        transforms.ToTensor(),\n",
        "        transforms.Normalize([0.485, 0.456, 0.406], [0.229, 0.224, 0.225])\n",
        "    ])\n",
        "    image = Image.open(image_path).convert('RGB')\n",
        "    input_image = transform(image).unsqueeze(0).to(DEVICE)\n",
        "\n",
        "    with torch.no_grad():\n",
        "        output = model(input_image)\n",
        "        _, predicted_idx = torch.max(output, 1)\n",
        "\n",
        "    # 클래스 라벨\n",
        "    classes = ['abnormal_down', 'abnormal_up', 'normal_down', 'normal_up']\n",
        "\n",
        "    # 결과 출력\n",
        "    print(\"Predicted class: {}\".format(classes[predicted_idx.item()]))\n",
        "    print(\"Confidence: {:.2f}%\".format(F.softmax(output, dim=1)[0][predicted_idx.item()] * 100))\n",
        "\n",
        "image_paths = []\n",
        "\n",
        "# 폴더 내의 모든 이미지 파일들을 가져와서 리스트에 추가\n",
        "folder_path = '/content/drive/MyDrive/new_photo/'\n",
        "image_paths.extend(glob.glob(folder_path + '*.png'))\n",
        "\n",
        "# 파일 이름을 기준으로 정렬\n",
        "image_paths.sort()\n",
        "\n",
        "# 'base' 모델로 이미지 분류 결과 출력\n",
        "#for image_path in image_paths:\n",
        "    #print(\"Image form base:\", image_path)\n",
        "    #predict_image_class(image_path, base)\n",
        "    #print()\n",
        "\n",
        "# 'resnet50' 모델로 이미지 분류 결과 출력\n",
        "for image_path in image_paths:\n",
        "    print(\"Image from resnet:\", image_path)\n",
        "    predict_image_class(image_path, resnet50)\n",
        "    print()\n"
      ],
      "metadata": {
        "id": "YMdaUWqilcmb"
      },
      "execution_count": null,
      "outputs": []
    },
    {
      "cell_type": "code",
      "source": [
        "from PIL import Image\n",
        "import torch\n",
        "import torch.nn.functional as F\n",
        "import torchvision.transforms as transforms\n",
        "import glob\n",
        "import os\n",
        "\n",
        "# 이미지 경로를 입력받아 가장 비슷한 클래스를 출력하는 함수\n",
        "def predict_image_class(image_path, model):\n",
        "    transform = transforms.Compose([\n",
        "        transforms.Resize([64, 64]),\n",
        "        transforms.ToTensor(),\n",
        "        transforms.Normalize([0.485, 0.456, 0.406], [0.229, 0.224, 0.225])\n",
        "    ])\n",
        "    image = Image.open(image_path).convert('RGB')\n",
        "    input_image = transform(image).unsqueeze(0).to(DEVICE)\n",
        "\n",
        "    with torch.no_grad():\n",
        "        output = model(input_image)\n",
        "        _, predicted_idx = torch.max(output, 1)\n",
        "\n",
        "    # 클래스 라벨\n",
        "    classes = ['abnormal_down', 'abnormal_up', 'normal_down', 'normal_up']\n",
        "\n",
        "    # 결과 출력\n",
        "    print(\"Predicted class: {}\".format(classes[predicted_idx.item()]))\n",
        "    print(\"Confidence: {:.2f}%\".format(F.softmax(output, dim=1)[0][predicted_idx.item()] * 100))\n",
        "\n",
        "    return classes[predicted_idx.item()]\n",
        "\n",
        "# GPU 사용 여부 확인\n",
        "USE_CUDA = torch.cuda.is_available()\n",
        "DEVICE = torch.device('cuda' if USE_CUDA else 'cpu')\n",
        "\n",
        "# 학습된 모델 로드\n",
        "model_resnet50 = torch.load('resnet50.pt')\n",
        "model_resnet50.eval()\n",
        "\n",
        "# 이미지 파일 경로들을 저장할 리스트\n",
        "image_paths = []\n",
        "\n",
        "# 폴더 내의 모든 이미지 파일들을 가져와서 리스트에 추가\n",
        "folder_path = '/content/drive/MyDrive/new_photo/'\n",
        "image_paths = glob.glob(folder_path + '*.png')\n",
        "\n",
        "# 파일 이름을 기준으로 정렬\n",
        "image_paths.sort()\n",
        "\n",
        "# 클래스 라벨\n",
        "classes = ['abnormal_down', 'abnormal_up', 'normal_down', 'normal_up']\n",
        "\n",
        "# 이미지를 저장할 폴더의 기본 경로\n",
        "save_folder_path = '/content/drive/MyDrive/pytorch/complete/'\n",
        "\n",
        "# 'resnet50' 모델로 이미지 분류 결과 출력\n",
        "for image_path in image_paths:\n",
        "    print(\"Image from resnet:\", image_path)\n",
        "    predicted_class = predict_image_class(image_path, model_resnet50)\n",
        "\n",
        "    # 해당 클래스의 폴더 경로\n",
        "    class_folder_path = os.path.join(save_folder_path, predicted_class)\n",
        "\n",
        "    # 폴더가 존재하지 않을 경우 생성\n",
        "    if not os.path.exists(class_folder_path):\n",
        "        os.makedirs(class_folder_path)\n",
        "\n",
        "    # 이미지 저장\n",
        "    image = Image.open(image_path).convert('RGB')\n",
        "    image.save(os.path.join(class_folder_path, os.path.basename(image_path)))\n",
        "    print(\"Image saved to:\", class_folder_path)\n",
        "    print()\n"
      ],
      "metadata": {
        "id": "IEM11acT69es"
      },
      "execution_count": null,
      "outputs": []
    },
    {
      "cell_type": "markdown",
      "source": [
        "그래프 출력"
      ],
      "metadata": {
        "id": "bNTO96bCF2tC"
      }
    },
    {
      "cell_type": "code",
      "source": [
        "import matplotlib.pyplot as plt\n",
        "\n",
        "# Function to train the model and record accuracy and loss at each epoch\n",
        "def train_resnet_with_metrics(model, criterion, optimizer, scheduler, num_epochs=25):\n",
        "    best_model_wts = copy.deepcopy(model.state_dict())\n",
        "    best_acc = 0.0\n",
        "\n",
        "    # Lists to store accuracy and loss values\n",
        "    train_acc_list = []\n",
        "    train_loss_list = []\n",
        "    val_acc_list = []\n",
        "    val_loss_list = []\n",
        "\n",
        "    for epoch in range(num_epochs):\n",
        "        print('-------------epoch {}-------------'.format(epoch+1))\n",
        "        since = time.time()\n",
        "\n",
        "        for phase in ['train', 'val']:\n",
        "            if phase == 'train':\n",
        "                model.train()\n",
        "            else:\n",
        "                model.eval()\n",
        "\n",
        "            running_loss = 0.0\n",
        "            running_corrects = 0\n",
        "\n",
        "            for inputs, labels in dataloaders[phase]:\n",
        "                inputs = inputs.to(DEVICE)\n",
        "                labels = labels.to(DEVICE)\n",
        "\n",
        "                optimizer.zero_grad()\n",
        "\n",
        "                with torch.set_grad_enabled(phase == 'train'):\n",
        "                    outputs = model(inputs)\n",
        "                    _, preds = torch.max(outputs, 1)\n",
        "                    loss = criterion(outputs, labels)\n",
        "\n",
        "                    if phase == 'train':\n",
        "                        loss.backward()\n",
        "                        optimizer.step()\n",
        "\n",
        "                running_loss += loss.item() * inputs.size(0)\n",
        "                running_corrects += torch.sum(preds == labels.data)\n",
        "\n",
        "            if phase == 'train':\n",
        "                scheduler.step()\n",
        "                l_r = [x['lr'] for x in optimizer_ft.param_groups]\n",
        "                print('learning rate: ', l_r)\n",
        "\n",
        "            epoch_loss = running_loss / dataset_sizes[phase]\n",
        "            epoch_acc = running_corrects.double() / dataset_sizes[phase]\n",
        "\n",
        "            if phase == 'train':\n",
        "                train_acc_list.append(epoch_acc)\n",
        "                train_loss_list.append(epoch_loss)\n",
        "            else:\n",
        "                val_acc_list.append(epoch_acc)\n",
        "                val_loss_list.append(epoch_loss)\n",
        "\n",
        "            print('{} Loss: {:.4f} Acc: {:.4f}'.format(phase, epoch_loss, epoch_acc))\n",
        "\n",
        "            if phase == 'val' and epoch_acc > best_acc:\n",
        "                best_acc = epoch_acc\n",
        "                best_model_wts = copy.deepcopy(model.state_dict())\n",
        "\n",
        "        time_elapsed = time.time() - since\n",
        "        print('Completed in {:.0f}m {:.0f}s'.format(time_elapsed // 60, time_elapsed % 60))\n",
        "\n",
        "    # Plot accuracy and loss graphs\n",
        "    plt.figure(figsize=(10, 5))\n",
        "    plt.subplot(1, 2, 1)\n",
        "    plt.plot(range(1, num_epochs + 1), train_acc_list, label='Train Accuracy')\n",
        "    plt.plot(range(1, num_epochs + 1), val_acc_list, label='Validation Accuracy')\n",
        "    plt.xlabel('Epochs')\n",
        "    plt.ylabel('Accuracy')\n",
        "    plt.legend()\n",
        "\n",
        "    plt.subplot(1, 2, 2)\n",
        "    plt.plot(range(1, num_epochs + 1), train_loss_list, label='Train Loss')\n",
        "    plt.plot(range(1, num_epochs + 1), val_loss_list, label='Validation Loss')\n",
        "    plt.xlabel('Epochs')\n",
        "    plt.ylabel('Loss')\n",
        "    plt.legend()\n",
        "\n",
        "    plt.tight_layout()\n",
        "    plt.show()\n",
        "\n",
        "    model.load_state_dict(best_model_wts)\n",
        "\n",
        "    return model\n",
        "\n",
        "# Call the updated training function\n",
        "model_resnet50 = train_resnet_with_metrics(resnet, criterion, optimizer_ft, exp_lr_scheduler, num_epochs=EPOCH)\n",
        "\n",
        "# Save the trained model\n",
        "torch.save(model_resnet50, 'resnet50.pt')\n"
      ],
      "metadata": {
        "id": "96F3nsDfF3y6",
        "colab": {
          "base_uri": "https://localhost:8080/",
          "height": 1000
        },
        "outputId": "a636cc5d-ffd6-46ae-a975-109114ec1a8e"
      },
      "execution_count": 23,
      "outputs": [
        {
          "output_type": "stream",
          "name": "stdout",
          "text": [
            "-------------epoch 1-------------\n",
            "learning rate:  [1.0000000000000002e-07]\n",
            "train Loss: 0.0327 Acc: 0.9919\n",
            "val Loss: 0.0020 Acc: 1.0000\n",
            "Completed in 0m 11s\n",
            "-------------epoch 2-------------\n",
            "learning rate:  [1.0000000000000002e-07]\n",
            "train Loss: 0.0061 Acc: 1.0000\n",
            "val Loss: 0.0003 Acc: 1.0000\n",
            "Completed in 0m 11s\n",
            "-------------epoch 3-------------\n",
            "learning rate:  [1.0000000000000002e-07]\n",
            "train Loss: 0.0056 Acc: 1.0000\n",
            "val Loss: 0.0004 Acc: 1.0000\n",
            "Completed in 0m 11s\n",
            "-------------epoch 4-------------\n",
            "learning rate:  [1.0000000000000002e-07]\n",
            "train Loss: 0.0035 Acc: 1.0000\n",
            "val Loss: 0.0003 Acc: 1.0000\n",
            "Completed in 0m 10s\n",
            "-------------epoch 5-------------\n",
            "learning rate:  [1.0000000000000004e-08]\n",
            "train Loss: 0.0050 Acc: 1.0000\n",
            "val Loss: 0.0002 Acc: 1.0000\n",
            "Completed in 0m 11s\n",
            "-------------epoch 6-------------\n",
            "learning rate:  [1.0000000000000004e-08]\n",
            "train Loss: 0.0222 Acc: 0.9919\n",
            "val Loss: 0.0005 Acc: 1.0000\n",
            "Completed in 0m 11s\n",
            "-------------epoch 7-------------\n",
            "learning rate:  [1.0000000000000004e-08]\n",
            "train Loss: 0.0045 Acc: 1.0000\n",
            "val Loss: 0.0006 Acc: 1.0000\n",
            "Completed in 0m 10s\n",
            "-------------epoch 8-------------\n",
            "learning rate:  [1.0000000000000004e-08]\n",
            "train Loss: 0.0096 Acc: 1.0000\n",
            "val Loss: 0.0005 Acc: 1.0000\n",
            "Completed in 0m 10s\n",
            "-------------epoch 9-------------\n",
            "learning rate:  [1.0000000000000004e-08]\n",
            "train Loss: 0.0091 Acc: 0.9919\n",
            "val Loss: 0.0003 Acc: 1.0000\n",
            "Completed in 0m 11s\n",
            "-------------epoch 10-------------\n",
            "learning rate:  [1.0000000000000004e-08]\n",
            "train Loss: 0.0031 Acc: 1.0000\n",
            "val Loss: 0.0002 Acc: 1.0000\n",
            "Completed in 0m 11s\n",
            "-------------epoch 11-------------\n",
            "learning rate:  [1.0000000000000004e-08]\n",
            "train Loss: 0.0097 Acc: 1.0000\n",
            "val Loss: 0.0005 Acc: 1.0000\n",
            "Completed in 0m 10s\n",
            "-------------epoch 12-------------\n",
            "learning rate:  [1.0000000000000005e-09]\n",
            "train Loss: 0.0051 Acc: 1.0000\n",
            "val Loss: 0.0006 Acc: 1.0000\n",
            "Completed in 0m 10s\n",
            "-------------epoch 13-------------\n",
            "learning rate:  [1.0000000000000005e-09]\n",
            "train Loss: 0.0032 Acc: 1.0000\n",
            "val Loss: 0.0004 Acc: 1.0000\n",
            "Completed in 0m 11s\n",
            "-------------epoch 14-------------\n",
            "learning rate:  [1.0000000000000005e-09]\n",
            "train Loss: 0.0058 Acc: 1.0000\n",
            "val Loss: 0.0006 Acc: 1.0000\n",
            "Completed in 0m 11s\n",
            "-------------epoch 15-------------\n",
            "learning rate:  [1.0000000000000005e-09]\n",
            "train Loss: 0.0056 Acc: 1.0000\n",
            "val Loss: 0.0005 Acc: 1.0000\n",
            "Completed in 0m 10s\n",
            "-------------epoch 16-------------\n",
            "learning rate:  [1.0000000000000005e-09]\n",
            "train Loss: 0.0042 Acc: 1.0000\n",
            "val Loss: 0.0014 Acc: 1.0000\n",
            "Completed in 0m 11s\n",
            "-------------epoch 17-------------\n",
            "learning rate:  [1.0000000000000005e-09]\n",
            "train Loss: 0.0127 Acc: 1.0000\n",
            "val Loss: 0.0009 Acc: 1.0000\n",
            "Completed in 0m 11s\n",
            "-------------epoch 18-------------\n",
            "learning rate:  [1.0000000000000005e-09]\n",
            "train Loss: 0.0036 Acc: 1.0000\n",
            "val Loss: 0.0010 Acc: 1.0000\n",
            "Completed in 0m 10s\n",
            "-------------epoch 19-------------\n",
            "learning rate:  [1.0000000000000006e-10]\n",
            "train Loss: 0.0095 Acc: 1.0000\n",
            "val Loss: 0.0011 Acc: 1.0000\n",
            "Completed in 0m 10s\n",
            "-------------epoch 20-------------\n",
            "learning rate:  [1.0000000000000006e-10]\n",
            "train Loss: 0.0099 Acc: 1.0000\n",
            "val Loss: 0.0012 Acc: 1.0000\n",
            "Completed in 0m 11s\n",
            "-------------epoch 21-------------\n",
            "learning rate:  [1.0000000000000006e-10]\n",
            "train Loss: 0.0179 Acc: 0.9919\n",
            "val Loss: 0.0013 Acc: 1.0000\n",
            "Completed in 0m 12s\n",
            "-------------epoch 22-------------\n",
            "learning rate:  [1.0000000000000006e-10]\n",
            "train Loss: 0.0030 Acc: 1.0000\n",
            "val Loss: 0.0011 Acc: 1.0000\n",
            "Completed in 0m 14s\n",
            "-------------epoch 23-------------\n",
            "learning rate:  [1.0000000000000006e-10]\n",
            "train Loss: 0.0155 Acc: 0.9919\n",
            "val Loss: 0.0019 Acc: 1.0000\n",
            "Completed in 0m 11s\n",
            "-------------epoch 24-------------\n",
            "learning rate:  [1.0000000000000006e-10]\n",
            "train Loss: 0.0032 Acc: 1.0000\n",
            "val Loss: 0.0016 Acc: 1.0000\n",
            "Completed in 0m 10s\n",
            "-------------epoch 25-------------\n",
            "learning rate:  [1.0000000000000006e-10]\n",
            "train Loss: 0.0144 Acc: 0.9919\n",
            "val Loss: 0.0013 Acc: 1.0000\n",
            "Completed in 0m 11s\n",
            "-------------epoch 26-------------\n",
            "learning rate:  [1.0000000000000006e-11]\n",
            "train Loss: 0.0066 Acc: 1.0000\n",
            "val Loss: 0.0015 Acc: 1.0000\n",
            "Completed in 0m 11s\n",
            "-------------epoch 27-------------\n",
            "learning rate:  [1.0000000000000006e-11]\n",
            "train Loss: 0.0045 Acc: 1.0000\n",
            "val Loss: 0.0011 Acc: 1.0000\n",
            "Completed in 0m 11s\n",
            "-------------epoch 28-------------\n",
            "learning rate:  [1.0000000000000006e-11]\n",
            "train Loss: 0.0034 Acc: 1.0000\n",
            "val Loss: 0.0017 Acc: 1.0000\n",
            "Completed in 0m 10s\n",
            "-------------epoch 29-------------\n",
            "learning rate:  [1.0000000000000006e-11]\n",
            "train Loss: 0.0035 Acc: 1.0000\n",
            "val Loss: 0.0017 Acc: 1.0000\n",
            "Completed in 0m 11s\n",
            "-------------epoch 30-------------\n",
            "learning rate:  [1.0000000000000006e-11]\n",
            "train Loss: 0.0049 Acc: 1.0000\n",
            "val Loss: 0.0011 Acc: 1.0000\n",
            "Completed in 0m 11s\n"
          ]
        },
        {
          "output_type": "display_data",
          "data": {
            "text/plain": [
              "<Figure size 1000x500 with 2 Axes>"
            ],
            "image/png": "[encoded data removed]"
          },
          "metadata": {}
        }
      ]
    }
  ]
}